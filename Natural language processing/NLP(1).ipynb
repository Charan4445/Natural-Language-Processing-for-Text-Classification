{
 "cells": [
  {
   "cell_type": "code",
   "execution_count": null,
   "id": "3c3d2616",
   "metadata": {},
   "outputs": [],
   "source": [
    "order = pd.read_csv(\"D:\\List of Orders.csv\")\n",
    "order.head()"
   ]
  },
  {
   "cell_type": "code",
   "execution_count": null,
   "id": "3d955bc1",
   "metadata": {},
   "outputs": [],
   "source": [
    "details = pd.read_csv(\"D:\\Order Details.csv\")\n",
    "details.head()"
   ]
  },
  {
   "cell_type": "code",
   "execution_count": null,
   "id": "faaf1570",
   "metadata": {},
   "outputs": [],
   "source": [
    "target = pd.read_csv(\"D:\\Sales target.csv\")\n",
    "target.head()"
   ]
  },
  {
   "cell_type": "code",
   "execution_count": null,
   "id": "af064117",
   "metadata": {},
   "outputs": [],
   "source": [
    "# Changing the Order Date variable to datetime data type\n",
    "order['Order Date'] = order['Order Date'].astype('datetime64[ns]')"
   ]
  },
  {
   "cell_type": "code",
   "execution_count": null,
   "id": "04b920a4",
   "metadata": {},
   "outputs": [],
   "source": [
    "# Null values\n",
    "details.isnull().sum()"
   ]
  },
  {
   "cell_type": "code",
   "execution_count": null,
   "id": "b3f5ebd4",
   "metadata": {},
   "outputs": [],
   "source": [
    "# Droping Null Values\n",
    "order = order.dropna()\n",
    "order.info()"
   ]
  },
  {
   "cell_type": "code",
   "execution_count": null,
   "id": "d07d18e5",
   "metadata": {},
   "outputs": [],
   "source": [
    "# Cleaning the detail dataset\n",
    "details.info()"
   ]
  },
  {
   "cell_type": "code",
   "execution_count": null,
   "id": "19098e5a",
   "metadata": {},
   "outputs": [],
   "source": [
    "# Null values\n",
    "details.isnull().sum()"
   ]
  },
  {
   "cell_type": "code",
   "execution_count": null,
   "id": "30d17828",
   "metadata": {},
   "outputs": [],
   "source": [
    "# Chaning the Category and Sub-category variable to categorical data type\n",
    "details['Category'] = details['Category'].astype('category')\n",
    "details['Sub-Category'] = details['Sub-Category'].astype('category')\n",
    "details.info()"
   ]
  },
  {
   "cell_type": "code",
   "execution_count": null,
   "id": "9daf81fd",
   "metadata": {},
   "outputs": [],
   "source": [
    "# Cleaning Target dataset\n",
    "target.info()"
   ]
  },
  {
   "cell_type": "code",
   "execution_count": null,
   "id": "d1be9f81",
   "metadata": {},
   "outputs": [],
   "source": [
    "# Coverting Category variable to category data\n",
    "target['Category'] = target['Category'].astype('category')\n",
    "target.info()"
   ]
  },
  {
   "cell_type": "code",
   "execution_count": null,
   "id": "26e7fae2",
   "metadata": {},
   "outputs": [],
   "source": [
    "# Cleanded Details data\n",
    "details.head()"
   ]
  },
  {
   "cell_type": "code",
   "execution_count": null,
   "id": "294987a7",
   "metadata": {},
   "outputs": [],
   "source": [
    "# Cleaned Order Data\n",
    "order.head()"
   ]
  },
  {
   "cell_type": "code",
   "execution_count": null,
   "id": "9dcdff68",
   "metadata": {},
   "outputs": [],
   "source": [
    "# Cleaned Target Dataset\n",
    "target.head()"
   ]
  },
  {
   "cell_type": "code",
   "execution_count": null,
   "id": "dee00ced",
   "metadata": {},
   "outputs": [],
   "source": [
    "profits = details.groupby('Order ID').sum().reset_index()\n",
    "profits.head()"
   ]
  },
  {
   "cell_type": "code",
   "execution_count": null,
   "id": "ddb0f4bd",
   "metadata": {},
   "outputs": [],
   "source": [
    "df = pd.merge(order, profits)\n",
    "df.head()"
   ]
  },
  {
   "cell_type": "code",
   "execution_count": null,
   "id": "aa4157e3",
   "metadata": {},
   "outputs": [],
   "source": [
    "import calendar\n",
    "\n",
    "df['Year'] = pd.DatetimeIndex(df['Order Date']).year\n",
    "df['Month_Number'] = pd.DatetimeIndex(df['Order Date']).month\n",
    "df['Month'] = df['Month_Number'].apply(lambda x: calendar.month_abbr[x])\n",
    "\n",
    "year_month = df.groupby(['Year', 'Month', 'Month_Number']).sum().sort_values(['Year', 'Month_Number'])\n",
    "year_month\n"
   ]
  },
  {
   "cell_type": "code",
   "execution_count": null,
   "id": "8f048e68",
   "metadata": {},
   "outputs": [],
   "source": [
    "import numpy as np\n",
    "import pandas as pd\n",
    "import plotly.express as px\n",
    "\n",
    "# Assuming you have already defined the 'year_month' DataFrame\n",
    "year_month = year_month.reset_index()\n",
    "year_month[\"Color\"] = np.where(year_month[\"Profit\"] < 0, 'Loss', 'Profit')\n",
    "year_month_2018 = year_month[year_month['Year'] == 2018]\n",
    "\n",
    "fig = px.bar(year_month_2018, x='Month_Number', y='Profit', color='Color',\n",
    "             title=\"Monthly Profit in 2018\",\n",
    "             labels=dict(Month_Number=\"Month\", Profit=\"Profit\", Color=\"Results\"),\n",
    "             color_discrete_map={\n",
    "                 'Loss': '#EC2049',\n",
    "                 'Profit': '#2F9599'},\n",
    "             hover_data=[\"Month\", \"Profit\"],\n",
    "             template='plotly_white')\n",
    "\n",
    "fig.update_layout(yaxis_tickprefix='₹', yaxis_tickformat=',.2f')\n",
    "\n",
    "fig.update_layout(\n",
    "    xaxis=dict(\n",
    "        tickvals=[1, 2, 3, 4, 5, 6, 7, 8, 9, 10, 11, 12],\n",
    "        ticktext=['Jan', 'Feb', 'Mar', 'Apr', 'May', 'Jun', 'Jul', 'Aug', 'Sep', 'Oct', 'Nov', 'Dec']\n",
    "    )\n",
    ")\n",
    "\n",
    "fig.show()\n"
   ]
  },
  {
   "cell_type": "code",
   "execution_count": null,
   "id": "e92213cf",
   "metadata": {},
   "outputs": [],
   "source": [
    "year_month_2019 = year_month[year_month['Year']==2019]\n",
    "fig = px.bar(year_month_2019, x='Month_Number', y='Profit', color='Color',\n",
    "             title=\"Monthly Profit in 2019\",\n",
    "             labels=dict(Month_Number=\"Month\", Profit=\"Profit\", Color=\"Results\"),\n",
    "             color_discrete_map={\n",
    "                 'Loss': '#EC2049',\n",
    "                 'Profit': '#2F9599'},\n",
    "             hover_data=[\"Month\", \"Profit\"],\n",
    "             template='plotly_white')\n",
    "\n",
    "fig.update_layout(yaxis_tickprefix = '₹', yaxis_tickformat = ',.2f')\n",
    "\n",
    "fig.update_layout(\n",
    "    xaxis = dict(\n",
    "        tickvals = [1, 2, 3, 4, 5, 6, 7,8 ,9, 10, 11, 12],\n",
    "        ticktext = ['Jan', 'Feb', 'Mar', 'Apr', 'May', 'Jun', 'Jul', 'Aug', 'Sep', 'Oct', 'Nov', 'Dec']\n",
    "    )\n",
    ")\n",
    "fig.show()"
   ]
  },
  {
   "cell_type": "code",
   "execution_count": null,
   "id": "dc625838",
   "metadata": {},
   "outputs": [],
   "source": [
    "orders_by_state = order.groupby(['State']).size().reset_index(name='Total Orders').sort_values(['Total Orders'])\n",
    "orders_by_state"
   ]
  },
  {
   "cell_type": "code",
   "execution_count": null,
   "id": "0f3d2924",
   "metadata": {},
   "outputs": [],
   "source": [
    "profit_by_state = df.groupby('State').sum().reset_index().sort_values(['Profit'])\n",
    "profit_by_state[\"Color\"] = np.where(profit_by_state[\"Profit\"]<0, 'Loss', 'Profit')\n",
    "\n",
    "\n",
    "fig = px.bar(profit_by_state, x='State', y='Profit',\n",
    "             color='Color', color_discrete_map={\n",
    "                 'Loss': '#EC2049',\n",
    "                 'Profit': '#2F9599'},\n",
    "             title=\"Profit by State\",\n",
    "             labels=dict(Color=\"Results\"),\n",
    "             template='plotly_white')\n",
    "\n",
    "# Disabling Zoom\n",
    "fig.layout.xaxis.fixedrange = True\n",
    "fig.layout.yaxis.fixedrange = True\n",
    "\n",
    "fig.update_layout(yaxis_tickprefix = '₹', yaxis_tickformat = ',.2f')\n",
    "\n",
    "fig.update_xaxes(\n",
    "        tickangle = -90,\n",
    "        title_text = \"States\",\n",
    ")\n",
    "\n",
    "\n",
    "fig.show()"
   ]
  },
  {
   "cell_type": "code",
   "execution_count": null,
   "id": "3fe7c874",
   "metadata": {},
   "outputs": [],
   "source": [
    "import plotly.graph_objects as go\n",
    "\n",
    "top_customers = df.groupby('CustomerName').sum().reset_index().sort_values(['Quantity'], ascending=False).head(5)\n",
    "\n",
    "colors = ['lightslategray',] * 5\n",
    "colors[0] = 'crimson'\n",
    "\n",
    "fig = go.Figure(data=[go.Bar(\n",
    "    x=top_customers['CustomerName'],\n",
    "    y=top_customers['Quantity'],\n",
    "    marker_color=colors # marker color can be a single color value or an iterable,\n",
    ")])\n",
    "\n",
    "fig.update_layout(title_text='Top 5 Customers', template='plotly_white')\n",
    "fig.update_xaxes(title_text='Customers')\n",
    "fig.update_yaxes(title_text='Total Orders')\n",
    "\n",
    "fig.show()\n"
   ]
  },
  {
   "cell_type": "code",
   "execution_count": null,
   "id": "5009f59c",
   "metadata": {},
   "outputs": [],
   "source": [
    "details_category = details.groupby('Category').sum().reset_index()\n",
    "fig = px.pie(details_category, values='Quantity', names='Category', color='Category',\n",
    "             color_discrete_map={'Clothing':'cyan',\n",
    "                                 'Electronics':'royalblue',\n",
    "                                 'Furniture':'darkblue'},\n",
    "            title='Total Quantity Sold per Category')\n",
    "fig.show()"
   ]
  },
  {
   "cell_type": "code",
   "execution_count": null,
   "id": "9054883c",
   "metadata": {},
   "outputs": [],
   "source": [
    "details_subcategory = details.groupby('Sub-Category').sum().reset_index()\n",
    "fig = px.pie(details_subcategory, values='Quantity', names='Sub-Category', color='Sub-Category',\n",
    "            title='Total Quantity Sold per Sub-Category')\n",
    "fig.show()"
   ]
  },
  {
   "cell_type": "code",
   "execution_count": null,
   "id": "f4e62548",
   "metadata": {},
   "outputs": [],
   "source": [
    "# Cleaning the order dataset\n",
    "order.info()"
   ]
  },
  {
   "cell_type": "code",
   "execution_count": null,
   "id": "c29ecfe5",
   "metadata": {},
   "outputs": [],
   "source": [
    "date_orders = order.groupby('Order Date').size().reset_index(name=\"Orders\")\n",
    "date_orders['Month'] = pd.DatetimeIndex(date_orders['Order Date']).month\n",
    "date_orders['Year'] = pd.DatetimeIndex(date_orders['Order Date']).year\n",
    "\n",
    "date_orders_2018 = date_orders[date_orders['Year']==2018]\n",
    "date_orders_2019 = date_orders[date_orders['Year']==2019]\n",
    "\n",
    "month_2018 = date_orders_2018.groupby('Month').sum().reset_index()\n",
    "month_2019 = date_orders_2019.groupby('Month').sum().reset_index()\n",
    "\n",
    "fig = go.Figure()\n",
    "fig.add_trace(go.Scatter(\n",
    "    name='2018',\n",
    "    x=month_2018['Month'],\n",
    "    y=month_2018['Orders'],\n",
    "    connectgaps=True # override default to connect the gaps\n",
    "))\n",
    "fig.add_trace(go.Scatter(\n",
    "    name='2019',\n",
    "    x=month_2019['Month'],\n",
    "    y=month_2019['Orders'],\n",
    "    connectgaps=True # override default to connect the gaps\n",
    "))\n",
    "fig.update_layout(title_text='Monthly Quantity Sold',\n",
    "                 template='plotly_dark')\n",
    "fig.update_xaxes(title_text='Time')\n",
    "fig.update_yaxes(title_text='Orders')\n",
    "fig.update_layout(\n",
    "    xaxis = dict(\n",
    "        tickvals = [1, 2, 3, 4, 5, 6, 7,8 ,9, 10, 11, 12],\n",
    "        ticktext = ['Jan', 'Feb', 'Mar', 'Apr', 'May', 'Jun', 'Jul', 'Aug', 'Sep', 'Oct', 'Nov', 'Dec']\n",
    "    )\n",
    ")\n",
    "\n",
    "fig.layout.xaxis.fixedrange = True\n",
    "fig.layout.yaxis.fixedrange = True\n",
    "\n",
    "fig.show()"
   ]
  },
  {
   "cell_type": "code",
   "execution_count": null,
   "id": "d8436cfb",
   "metadata": {},
   "outputs": [],
   "source": [
    "fig = px.bar(orders_by_state, y='State', x='Total Orders',\n",
    "             title=\"Total Orders by State\", \n",
    "             color_discrete_sequence=[\"springgreen\"],\n",
    "             template='plotly_white')\n",
    "\n",
    "# Disabling Zoom\n",
    "fig.layout.xaxis.fixedrange = True\n",
    "fig.layout.yaxis.fixedrange = True\n",
    "\n",
    "fig.show()"
   ]
  },
  {
   "cell_type": "code",
   "execution_count": null,
   "id": "44041271",
   "metadata": {},
   "outputs": [],
   "source": [
    "#\n",
    "orders_by_city = order.groupby(['City']).size().reset_index(name='Total Orders').sort_values(['Total Orders'])\n",
    "\n",
    "fig = px.bar(orders_by_city, y='City', x='Total Orders',\n",
    "             title=\"Total Orders by City\",\n",
    "             template='simple_white')\n",
    "\n",
    "fig.layout.yaxis.tickmode='linear'\n",
    "# Disabling Zoom\n",
    "fig.layout.xaxis.fixedrange = True\n",
    "fig.layout.yaxis.fixedrange = True\n",
    "\n",
    "fig.show()"
   ]
  },
  {
   "cell_type": "code",
   "execution_count": null,
   "id": "41ee173c",
   "metadata": {},
   "outputs": [],
   "source": [
    "target_category = target.groupby('Category').max().reset_index()\n",
    "details_category = details.groupby('Category').sum().reset_index()\n",
    "\n",
    "target_category['Actual_Amount'] = details_category['Profit']\n",
    "\n",
    "fig = go.Figure(data=[\n",
    "    go.Bar(name='Target', x=target_category['Category'], y=target_category['Target'],\n",
    "          marker_color='#2b2d42'),\n",
    "    go.Bar(name='Actual Amount', x=target_category['Category'], y=target_category['Actual_Amount'],\n",
    "          marker_color='#d90429')\n",
    "])\n",
    "\n",
    "fig.update_layout(title_text='Actual vs Target Sales',\n",
    "                 template='plotly_white')\n",
    "\n",
    "fig.update_xaxes(title_text='Categories')\n",
    "fig.update_yaxes(title_text='Amount')\n",
    "\n",
    "fig.update_layout(yaxis_tickprefix = '₹', yaxis_tickformat = ',.2f')\n",
    "\n",
    "\n",
    "fig.layout.xaxis.fixedrange = True\n",
    "fig.layout.yaxis.fixedrange = True\n",
    "\n",
    "fig.show()\n"
   ]
  },
  {
   "cell_type": "code",
   "execution_count": null,
   "id": "46429cad",
   "metadata": {},
   "outputs": [],
   "source": [
    "customer_seg = df.groupby('CustomerName').sum().reset_index()\n",
    "customer_seg = customer_seg[['CustomerName', 'Amount', 'Quantity']]\n",
    "customer_seg.head()"
   ]
  },
  {
   "cell_type": "code",
   "execution_count": null,
   "id": "fa531301",
   "metadata": {},
   "outputs": [],
   "source": [
    "!pip uninstall threadpoolctl\n",
    "!pip install threadpoolctl\n",
    "\n",
    "# Standardizing\n",
    "customer_seg2 = customer_seg[['Amount', 'Quantity']]\n",
    "scaler = StandardScaler()\n",
    "scaler.fit(customer_seg2)\n",
    "\n",
    "customers_normalized = scaler.transform(customer_seg2)\n",
    "customers_normalized\n",
    "# Elbow Method to find best number of clusters\n",
    "sse = {}\n",
    "for k in range(1, 11):\n",
    "    kmeans = KMeans(n_clusters=k, random_state=42)\n",
    "    kmeans.fit(customers_normalized)\n",
    "    sse[k] = kmeans.inertia_  # Assign SSE to closest cluster centroid\n",
    "\n",
    "# Plotting SSE\n",
    "fig = go.Figure()\n",
    "fig.add_trace(go.Scatter(\n",
    "    x=list(sse.keys()),\n",
    "    y=list(sse.values()),\n",
    "    connectgaps=True  # Override default to connect the gaps\n",
    "))\n",
    "\n",
    "fig.update_layout(\n",
    "    title_text='The Elbow Method',\n",
    "    template='plotly_white'\n",
    ")\n",
    "fig.update_xaxes(title_text='k')\n",
    "fig.update_yaxes(title_text='SSE')\n",
    "fig.layout.xaxis.fixedrange = True\n",
    "fig.layout.yaxis.fixedrange = True\n",
    "fig.show()\n"
   ]
  },
  {
   "cell_type": "code",
   "execution_count": null,
   "id": "924bcb78",
   "metadata": {},
   "outputs": [],
   "source": [
    "# KMeans\n",
    "model = KMeans(n_clusters=3)\n",
    "model.fit(customers_normalized)\n",
    "customer_seg['Cluster'] = model.labels_ + 1\n",
    "customer_seg['Cluster'] = customer_seg['Cluster'].astype('category')\n",
    "customer_seg.head()"
   ]
  },
  {
   "cell_type": "code",
   "execution_count": null,
   "id": "721f830d",
   "metadata": {},
   "outputs": [],
   "source": [
    "customer_seg.groupby('Cluster').agg({\n",
    "    'Amount':'mean',\n",
    "    'Quantity':'count'}).round(2)"
   ]
  },
  {
   "cell_type": "code",
   "execution_count": null,
   "id": "f6b088ad",
   "metadata": {},
   "outputs": [],
   "source": [
    "fig = px.scatter(customer_seg, x=\"Quantity\", y=\"Amount\",\n",
    "                 color=\"Cluster\",\n",
    "                 template='plotly_white',\n",
    "                 title=\"Amount vs Quantity - Customer Segmentation\")\n",
    "fig.layout.xaxis.fixedrange = True\n",
    "fig.layout.yaxis.fixedrange = True\n",
    "\n",
    "fig.show()"
   ]
  }
 ],
 "metadata": {
  "kernelspec": {
   "display_name": "Python 3 (ipykernel)",
   "language": "python",
   "name": "python3"
  },
  "language_info": {
   "codemirror_mode": {
    "name": "ipython",
    "version": 3
   },
   "file_extension": ".py",
   "mimetype": "text/x-python",
   "name": "python",
   "nbconvert_exporter": "python",
   "pygments_lexer": "ipython3",
   "version": "3.9.12"
  }
 },
 "nbformat": 4,
 "nbformat_minor": 5
}
